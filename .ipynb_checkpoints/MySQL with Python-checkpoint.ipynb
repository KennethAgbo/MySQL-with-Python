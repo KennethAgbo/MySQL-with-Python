{
 "cells": [
  {
   "cell_type": "code",
   "execution_count": 1,
   "id": "a83a4dd7",
   "metadata": {},
   "outputs": [
    {
     "name": "stdout",
     "output_type": "stream",
     "text": [
      "Requirement already satisfied: mysql-connector-python in c:\\users\\kenneth\\anaconda3\\lib\\site-packages (8.3.0)\n",
      "Note: you may need to restart the kernel to use updated packages.\n"
     ]
    }
   ],
   "source": [
    " pip install mysql-connector-python"
   ]
  },
  {
   "cell_type": "code",
   "execution_count": 2,
   "id": "5c9024ca",
   "metadata": {},
   "outputs": [],
   "source": [
    "import mysql.connector as cn\n",
    "import pandas as pd\n",
    "import os "
   ]
  },
  {
   "cell_type": "code",
   "execution_count": 3,
   "id": "85592201",
   "metadata": {},
   "outputs": [],
   "source": [
    "# To create or hid your password, type environment variable, and create the password\n",
    "password =os.environ.get (\"mysqlpassword\")"
   ]
  },
  {
   "cell_type": "code",
   "execution_count": 4,
   "id": "0d0ac61c",
   "metadata": {},
   "outputs": [
    {
     "data": {
      "text/plain": [
       "'123456789'"
      ]
     },
     "execution_count": 4,
     "metadata": {},
     "output_type": "execute_result"
    }
   ],
   "source": [
    "password"
   ]
  },
  {
   "cell_type": "code",
   "execution_count": 10,
   "id": "f9fdb8bd",
   "metadata": {},
   "outputs": [
    {
     "data": {
      "text/html": [
       "<div>\n",
       "<style scoped>\n",
       "    .dataframe tbody tr th:only-of-type {\n",
       "        vertical-align: middle;\n",
       "    }\n",
       "\n",
       "    .dataframe tbody tr th {\n",
       "        vertical-align: top;\n",
       "    }\n",
       "\n",
       "    .dataframe thead th {\n",
       "        text-align: right;\n",
       "    }\n",
       "</style>\n",
       "<table border=\"1\" class=\"dataframe\">\n",
       "  <thead>\n",
       "    <tr style=\"text-align: right;\">\n",
       "      <th></th>\n",
       "      <th>DepartmentID</th>\n",
       "      <th>DepartmentName</th>\n",
       "      <th>Location</th>\n",
       "    </tr>\n",
       "  </thead>\n",
       "  <tbody>\n",
       "    <tr>\n",
       "      <th>0</th>\n",
       "      <td>101</td>\n",
       "      <td>Sales</td>\n",
       "      <td>New York</td>\n",
       "    </tr>\n",
       "    <tr>\n",
       "      <th>1</th>\n",
       "      <td>102</td>\n",
       "      <td>Marketing</td>\n",
       "      <td>Los Angeles</td>\n",
       "    </tr>\n",
       "    <tr>\n",
       "      <th>2</th>\n",
       "      <td>103</td>\n",
       "      <td>Finance</td>\n",
       "      <td>Chicago</td>\n",
       "    </tr>\n",
       "    <tr>\n",
       "      <th>3</th>\n",
       "      <td>104</td>\n",
       "      <td>Engineering</td>\n",
       "      <td>San Francisco</td>\n",
       "    </tr>\n",
       "    <tr>\n",
       "      <th>4</th>\n",
       "      <td>105</td>\n",
       "      <td>Human Resources</td>\n",
       "      <td>Houston</td>\n",
       "    </tr>\n",
       "    <tr>\n",
       "      <th>5</th>\n",
       "      <td>106</td>\n",
       "      <td>Operations</td>\n",
       "      <td>Dallas</td>\n",
       "    </tr>\n",
       "    <tr>\n",
       "      <th>6</th>\n",
       "      <td>107</td>\n",
       "      <td>Research and Development</td>\n",
       "      <td>Seattle</td>\n",
       "    </tr>\n",
       "    <tr>\n",
       "      <th>7</th>\n",
       "      <td>108</td>\n",
       "      <td>Customer Support</td>\n",
       "      <td>Miami</td>\n",
       "    </tr>\n",
       "    <tr>\n",
       "      <th>8</th>\n",
       "      <td>109</td>\n",
       "      <td>Quality Assurance</td>\n",
       "      <td>Boston</td>\n",
       "    </tr>\n",
       "    <tr>\n",
       "      <th>9</th>\n",
       "      <td>110</td>\n",
       "      <td>IT Services</td>\n",
       "      <td>Denver</td>\n",
       "    </tr>\n",
       "  </tbody>\n",
       "</table>\n",
       "</div>"
      ],
      "text/plain": [
       "   DepartmentID            DepartmentName       Location\n",
       "0           101                     Sales       New York\n",
       "1           102                 Marketing    Los Angeles\n",
       "2           103                   Finance        Chicago\n",
       "3           104               Engineering  San Francisco\n",
       "4           105           Human Resources        Houston\n",
       "5           106                Operations         Dallas\n",
       "6           107  Research and Development        Seattle\n",
       "7           108          Customer Support          Miami\n",
       "8           109         Quality Assurance         Boston\n",
       "9           110               IT Services         Denver"
      ]
     },
     "metadata": {},
     "output_type": "display_data"
    }
   ],
   "source": [
    "# This allows use to connect to a shark_tank database on the local host server of the SQL\n",
    "try:\n",
    "    connection= cn.connect(\n",
    "        user = \"root\",\n",
    "        password= password, \n",
    "        database= \"join1\",\n",
    "        host = \"localhost\")\n",
    "\n",
    "    # To enable use to work on the database\n",
    "    cursor = connection.cursor()\n",
    "\n",
    "    qryl = \"SELECT * FROM departments\"\n",
    "    cursor.execute(qryl)\n",
    "    result = cursor.fetchall()\n",
    "    df = pd.DataFrame(result, columns=[\"DepartmentID\", \"DepartmentName\", \"Location\"])\n",
    "    display(df)\n",
    "\n",
    "except:\n",
    "    print(\"check for more detail\")"
   ]
  },
  {
   "cell_type": "code",
   "execution_count": 17,
   "id": "a494cdcb",
   "metadata": {
    "collapsed": true
   },
   "outputs": [
    {
     "data": {
      "text/html": [
       "<div>\n",
       "<style scoped>\n",
       "    .dataframe tbody tr th:only-of-type {\n",
       "        vertical-align: middle;\n",
       "    }\n",
       "\n",
       "    .dataframe tbody tr th {\n",
       "        vertical-align: top;\n",
       "    }\n",
       "\n",
       "    .dataframe thead th {\n",
       "        text-align: right;\n",
       "    }\n",
       "</style>\n",
       "<table border=\"1\" class=\"dataframe\">\n",
       "  <thead>\n",
       "    <tr style=\"text-align: right;\">\n",
       "      <th></th>\n",
       "      <th>DepartmentID</th>\n",
       "      <th>DepartmentName</th>\n",
       "      <th>Location</th>\n",
       "    </tr>\n",
       "  </thead>\n",
       "  <tbody>\n",
       "    <tr>\n",
       "      <th>0</th>\n",
       "      <td>101</td>\n",
       "      <td>Sales</td>\n",
       "      <td>New York</td>\n",
       "    </tr>\n",
       "    <tr>\n",
       "      <th>1</th>\n",
       "      <td>102</td>\n",
       "      <td>Marketing</td>\n",
       "      <td>Los Angeles</td>\n",
       "    </tr>\n",
       "    <tr>\n",
       "      <th>2</th>\n",
       "      <td>103</td>\n",
       "      <td>Finance</td>\n",
       "      <td>Chicago</td>\n",
       "    </tr>\n",
       "    <tr>\n",
       "      <th>3</th>\n",
       "      <td>104</td>\n",
       "      <td>Engineering</td>\n",
       "      <td>San Francisco</td>\n",
       "    </tr>\n",
       "    <tr>\n",
       "      <th>4</th>\n",
       "      <td>105</td>\n",
       "      <td>Human Resources</td>\n",
       "      <td>Houston</td>\n",
       "    </tr>\n",
       "    <tr>\n",
       "      <th>5</th>\n",
       "      <td>106</td>\n",
       "      <td>Operations</td>\n",
       "      <td>Dallas</td>\n",
       "    </tr>\n",
       "    <tr>\n",
       "      <th>6</th>\n",
       "      <td>107</td>\n",
       "      <td>Research and Development</td>\n",
       "      <td>Seattle</td>\n",
       "    </tr>\n",
       "    <tr>\n",
       "      <th>7</th>\n",
       "      <td>108</td>\n",
       "      <td>Customer Support</td>\n",
       "      <td>Miami</td>\n",
       "    </tr>\n",
       "    <tr>\n",
       "      <th>8</th>\n",
       "      <td>109</td>\n",
       "      <td>Quality Assurance</td>\n",
       "      <td>Boston</td>\n",
       "    </tr>\n",
       "    <tr>\n",
       "      <th>9</th>\n",
       "      <td>110</td>\n",
       "      <td>IT Services</td>\n",
       "      <td>Denver</td>\n",
       "    </tr>\n",
       "  </tbody>\n",
       "</table>\n",
       "</div>"
      ],
      "text/plain": [
       "   DepartmentID            DepartmentName       Location\n",
       "0           101                     Sales       New York\n",
       "1           102                 Marketing    Los Angeles\n",
       "2           103                   Finance        Chicago\n",
       "3           104               Engineering  San Francisco\n",
       "4           105           Human Resources        Houston\n",
       "5           106                Operations         Dallas\n",
       "6           107  Research and Development        Seattle\n",
       "7           108          Customer Support          Miami\n",
       "8           109         Quality Assurance         Boston\n",
       "9           110               IT Services         Denver"
      ]
     },
     "execution_count": 17,
     "metadata": {},
     "output_type": "execute_result"
    }
   ],
   "source": []
  },
  {
   "cell_type": "markdown",
   "id": "f2913ff2",
   "metadata": {},
   "source": [
    "# To make any change (delete,update) on the table, you must use commit"
   ]
  },
  {
   "cell_type": "code",
   "execution_count": 15,
   "id": "1c95b3f4",
   "metadata": {},
   "outputs": [
    {
     "name": "stdout",
     "output_type": "stream",
     "text": [
      "check for more detail\n"
     ]
    }
   ],
   "source": [
    "# This allows use to connect to a shark_tank database on the local host server of the SQL\n",
    "try:\n",
    "    connection= cn.connect(\n",
    "        user = \"root\",\n",
    "        password= password, \n",
    "        database= \"join1\",\n",
    "        host = \"localhost\")\n",
    "\n",
    "    # To enable use to work on the database\n",
    "    cursor = connection.cursor()\n",
    "\n",
    "    qryl = \"\"\"\n",
    "        UPDATE departments\n",
    "        SET \"DepartmentName = \"Operations\"\n",
    "        WHERE \"DepartmentID = 102;\n",
    "        \"\"\"\n",
    "    \n",
    "    cursor.execute(qryl)\n",
    "    connection.commit()\n",
    "\n",
    "except:\n",
    "    print(\"check for more detail\")"
   ]
  },
  {
   "cell_type": "code",
   "execution_count": null,
   "id": "712a2a07",
   "metadata": {},
   "outputs": [],
   "source": []
  },
  {
   "cell_type": "code",
   "execution_count": null,
   "id": "0b86a300",
   "metadata": {},
   "outputs": [],
   "source": []
  }
 ],
 "metadata": {
  "kernelspec": {
   "display_name": "Python 3 (ipykernel)",
   "language": "python",
   "name": "python3"
  },
  "language_info": {
   "codemirror_mode": {
    "name": "ipython",
    "version": 3
   },
   "file_extension": ".py",
   "mimetype": "text/x-python",
   "name": "python",
   "nbconvert_exporter": "python",
   "pygments_lexer": "ipython3",
   "version": "3.9.13"
  }
 },
 "nbformat": 4,
 "nbformat_minor": 5
}
